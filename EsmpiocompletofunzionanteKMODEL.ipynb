{
  "nbformat": 4,
  "nbformat_minor": 0,
  "metadata": {
    "colab": {
      "provenance": [],
      "collapsed_sections": []
    },
    "kernelspec": {
      "name": "python3",
      "display_name": "Python 3"
    },
    "accelerator": "GPU"
  },
  "cells": [
    {
      "cell_type": "markdown",
      "metadata": {
        "id": "view-in-github"
      },
      "source": [
        "<a href=\"https://colab.research.google.com/gist/gheesung/eb0076e040ba53d5be2ad2db1c70cf82/image-classification-with-sipeed-maix-using-mobilenetv1.ipynb\" target=\"_parent\"><img src=\"https://colab.research.google.com/assets/colab-badge.svg\" alt=\"Open In Colab\"/></a>"
      ]
    },
    {
      "cell_type": "markdown",
      "metadata": {
        "id": "prOt_VofnYCo"
      },
      "source": [
        "#Classificazione immagini di fiori con Sipeed AIoT.\n",
        "\n",
        "Per l'esempio in questione è stato scelto di utilizzare la rete Mobilenet V1 adattandola a una classificazione a 5 classi che sono appunto i tipi di fiori da classificare.\n",
        "Il modello sarà modificato agigungendo ulteriori strati e/o tagliando alcuni strati gia esistenti per la rete MobileNet."
      ]
    },
    {
      "cell_type": "markdown",
      "metadata": {
        "id": "e2hnpFs6P8mC"
      },
      "source": [
        "Clono il tool che ci permetterà di convertire il modello addestrato per l'architettura di K210 da Github e il transfer learning della MobileNet.\n"
      ]
    },
    {
      "cell_type": "code",
      "source": [
        "%cd /content\n",
        "! rm -rf *"
      ],
      "metadata": {
        "colab": {
          "base_uri": "https://localhost:8080/"
        },
        "id": "p28wKuyG5wuW",
        "outputId": "06155346-f12c-44fd-a53f-5b6f1e05e31a"
      },
      "execution_count": null,
      "outputs": [
        {
          "output_type": "stream",
          "name": "stdout",
          "text": [
            "/content\n"
          ]
        }
      ]
    },
    {
      "cell_type": "code",
      "metadata": {
        "id": "zZaQb4KqNBzW",
        "colab": {
          "base_uri": "https://localhost:8080/"
        },
        "outputId": "4ab0dab2-9760-406d-e755-f30d6642e12a"
      },
      "source": [
        "!git clone https://github.com/AIWintermuteAI/transfer_learning_sipeed.git\n",
        "!git clone https://github.com/sipeed/Maix_Toolbox.git"
      ],
      "execution_count": 1,
      "outputs": [
        {
          "output_type": "stream",
          "name": "stdout",
          "text": [
            "Cloning into 'transfer_learning_sipeed'...\n",
            "remote: Enumerating objects: 66, done.\u001b[K\n",
            "remote: Counting objects: 100% (3/3), done.\u001b[K\n",
            "remote: Compressing objects: 100% (3/3), done.\u001b[K\n",
            "remote: Total 66 (delta 0), reused 0 (delta 0), pack-reused 63\u001b[K\n",
            "Unpacking objects: 100% (66/66), done.\n",
            "Cloning into 'Maix_Toolbox'...\n",
            "remote: Enumerating objects: 34, done.\u001b[K\n",
            "remote: Counting objects: 100% (9/9), done.\u001b[K\n",
            "remote: Compressing objects: 100% (4/4), done.\u001b[K\n",
            "remote: Total 34 (delta 6), reused 5 (delta 5), pack-reused 25\u001b[K\n",
            "Unpacking objects: 100% (34/34), done.\n"
          ]
        }
      ]
    },
    {
      "cell_type": "markdown",
      "metadata": {
        "id": "vyc9CowltO9q"
      },
      "source": [
        "###Installo il convertitore tflite/kmodel"
      ]
    },
    {
      "cell_type": "code",
      "metadata": {
        "id": "nowUGs2NB7Qn"
      },
      "source": [
        "%%bash\n",
        "cd Maix_Toolbox \n",
        "mkdir -p ncc\n",
        "mkdir -p workspace\n",
        "mkdir -p images\n",
        "mkdir -p log\n",
        "cd ncc\n",
        "wget https://github.com/kendryte/nncase/releases/download/v0.1.0-rc5/ncc-linux-x86_64.tar.xz\n",
        "tar -Jxf ncc-linux-x86_64.tar.xz\n",
        "rm ncc-linux-x86_64.tar.xz\n",
        "echo \"download nncase ok!\""
      ],
      "execution_count": null,
      "outputs": []
    },
    {
      "cell_type": "markdown",
      "metadata": {
        "id": "aInHubWZQgzJ"
      },
      "source": [
        "## importo ulteriori librerie"
      ]
    },
    {
      "cell_type": "code",
      "metadata": {
        "id": "4Wvu_zg6NstZ"
      },
      "source": [
        "import keras\n",
        "import numpy as np\n",
        "from keras import backend as K\n",
        "from tensorflow.keras.optimizers import Adam\n",
        "from keras.metrics import categorical_crossentropy\n",
        "from keras.preprocessing.image import ImageDataGenerator\n",
        "from keras.preprocessing import image\n",
        "from keras.models import Model\n",
        "from keras.applications import imagenet_utils\n",
        "from keras.layers import Dense, GlobalAveragePooling2D, Dropout,Flatten\n",
        "\n",
        "\n",
        "import sys\n",
        "sys.path.append('/content/transfer_learning_sipeed')\n",
        "\n",
        "#from mobilenet_sipeed.mobilenet import MobileNet\n",
        "\n",
        "\n",
        "\n",
        "from keras.applications.mobilenet import preprocess_input,MobileNet\n",
        "\n",
        "\n",
        "\n",
        "\n"
      ],
      "execution_count": 3,
      "outputs": []
    },
    {
      "cell_type": "markdown",
      "metadata": {
        "id": "wLKCaC1cQ8nZ"
      },
      "source": [
        "### Scarico il dataset dei fiori "
      ]
    },
    {
      "cell_type": "code",
      "metadata": {
        "id": "t-6gYty7R3u8",
        "outputId": "9d9b8907-e2d9-4229-eaef-f8d13f9d20d5",
        "colab": {
          "base_uri": "https://localhost:8080/"
        }
      },
      "source": [
        "%cd /content\n",
        "!curl -LO http://download.tensorflow.org/example_images/flower_photos.tgz\n",
        "!tar xzf flower_photos.tgz"
      ],
      "execution_count": 4,
      "outputs": [
        {
          "output_type": "stream",
          "name": "stdout",
          "text": [
            "/content\n",
            "  % Total    % Received % Xferd  Average Speed   Time    Time     Time  Current\n",
            "                                 Dload  Upload   Total   Spent    Left  Speed\n",
            "100  218M  100  218M    0     0   184M      0  0:00:01  0:00:01 --:--:--  184M\n"
          ]
        }
      ]
    },
    {
      "cell_type": "markdown",
      "metadata": {
        "id": "bumxZ1EFRpd_"
      },
      "source": [
        "### Definisco i prametri per l'addestramento"
      ]
    },
    {
      "cell_type": "code",
      "metadata": {
        "id": "qN8wA-GN3AJK"
      },
      "source": [
        "IMAGE_SIZE = 224\n",
        "ALPHA=0.75\n",
        "EPOCHS=10"
      ],
      "execution_count": 5,
      "outputs": []
    },
    {
      "cell_type": "code",
      "metadata": {
        "id": "wsWFPaOcOyS-"
      },
      "source": [
        "def prepare_image(file):\n",
        "    img_path = ''\n",
        "    img = image.load_img(img_path + file, target_size=(IMAGE_SIZE, IMAGE_SIZE))\n",
        "    img_array = image.img_to_array(img)\n",
        "    img_array_expanded_dims = np.expand_dims(img_array, axis=0)\n",
        "    return keras.applications.mobilenet.preprocess_input(img_array_expanded_dims)"
      ],
      "execution_count": 6,
      "outputs": []
    },
    {
      "cell_type": "code",
      "metadata": {
        "id": "wO_tDctxll5i"
      },
      "source": [
        "# function to define dropout, hidden layers and the number of output\n",
        "# funzione per definire dropout, hidden layer e il numero di output\n",
        "def build_finetune_model(base_model, dropout, fc_layers, num_classes):\n",
        "    for layer in base_model.layers:\n",
        "        layer.trainable = False\n",
        "\n",
        "    x = base_model.output\n",
        "    x = GlobalAveragePooling2D()(x)\n",
        "    \n",
        "    for fc in fc_layers:\n",
        "        # New FC layer, random init\n",
        "        x = Dense(fc, activation='relu')(x) \n",
        "        x = Dropout(dropout)(x)\n",
        "\n",
        "    # New softmax layer\n",
        "    predictions = Dense(num_classes, activation='softmax')(x) \n",
        "    \n",
        "    finetune_model = Model(inputs=base_model.input, outputs=predictions)\n",
        "\n",
        "    return finetune_model"
      ],
      "execution_count": 7,
      "outputs": []
    },
    {
      "cell_type": "markdown",
      "metadata": {
        "id": "1a6QkUw2RnsH"
      },
      "source": [
        "### Transfer Learning di Mobilenet V1"
      ]
    },
    {
      "cell_type": "code",
      "source": [
        "import keras\n",
        "import numpy as np\n",
        "from keras import backend as K\n",
        "from keras.metrics import categorical_crossentropy\n",
        "from keras.preprocessing.image import ImageDataGenerator\n",
        "from keras.preprocessing import image\n",
        "from keras.models import Model\n",
        "from keras.applications import imagenet_utils\n",
        "from keras.layers import Dense, GlobalAveragePooling2D, Dropout\n",
        "import sys\n",
        "sys.path.append('./transfer_learning_sipeed')\n",
        "from mobilenet_sipeed.mobilenet import MobileNet\n",
        "from keras.applications.mobilenet import preprocess_input\n",
        "import tensorflow"
      ],
      "metadata": {
        "id": "ZuaytB_ezly8"
      },
      "execution_count": 8,
      "outputs": []
    },
    {
      "cell_type": "code",
      "metadata": {
        "id": "J5oc2DTvO4wf",
        "colab": {
          "base_uri": "https://localhost:8080/"
        },
        "outputId": "62c28692-12aa-4ec3-9235-eaae9993d31d"
      },
      "source": [
        "import tensorflow.keras as keras\n",
        "import tensorflow as tf\n",
        "tf.compat.v1.enable_eager_execution()\n",
        "\n",
        "# MobileNetv1\n",
        "base_model=MobileNet(input_shape=(IMAGE_SIZE, IMAGE_SIZE, 3), alpha = ALPHA, \n",
        "                     depth_multiplier = 1, dropout = 0.001, include_top = False, \n",
        "                     weights = \"imagenet\", classes = 1000, backend=keras.backend, \n",
        "                     layers=keras.layers,models=keras.models,utils=keras.utils)\n"
      ],
      "execution_count": 9,
      "outputs": [
        {
          "output_type": "stream",
          "name": "stdout",
          "text": [
            "Downloading data from https://github.com/fchollet/deep-learning-models/releases/download/v0.6/mobilenet_7_5_224_tf_no_top.h5\n",
            "10633216/10626956 [==============================] - 1s 0us/step\n",
            "10641408/10626956 [==============================] - 1s 0us/step\n"
          ]
        }
      ]
    },
    {
      "cell_type": "code",
      "source": [
        "import segmentation_models as sm\n",
        "\n",
        "sm.set_framework('tf.keras')\n",
        "\n",
        "sm.framework()"
      ],
      "metadata": {
        "id": "4bIX8uCo7YfF"
      },
      "execution_count": null,
      "outputs": []
    },
    {
      "cell_type": "markdown",
      "metadata": {
        "id": "ZqKI0E7oRH3h"
      },
      "source": [
        "### Definisco gli ultimi strati\n",
        "I used 2 hidden layers and 100 and 50 nodes. More layers or nodes can be added but this will increase the model size and may not fit into Maixpy memory."
      ]
    },
    {
      "cell_type": "code",
      "metadata": {
        "id": "gzXf_FlDl20y"
      },
      "source": [
        "FC_LAYERS = [100, 50]\n",
        "dropout = 0.5\n",
        "\n",
        "finetune_model = build_finetune_model(base_model, \n",
        "                                      dropout=dropout, \n",
        "                                      fc_layers=FC_LAYERS, \n",
        "                                      num_classes=5)"
      ],
      "execution_count": 11,
      "outputs": []
    },
    {
      "cell_type": "code",
      "metadata": {
        "id": "big9oKAWqQ0N",
        "colab": {
          "base_uri": "https://localhost:8080/"
        },
        "outputId": "33f2a6b0-b0b6-467d-a3dc-2f5b284cd70d"
      },
      "source": [
        "for i,layer in enumerate(finetune_model.layers):\n",
        "    print(i,layer.name)"
      ],
      "execution_count": 14,
      "outputs": [
        {
          "output_type": "stream",
          "name": "stdout",
          "text": [
            "0 input_1\n",
            "1 conv1_pad\n",
            "2 conv1\n",
            "3 conv1_bn\n",
            "4 conv1_relu\n",
            "5 conv_dw_1\n",
            "6 conv_dw_1_bn\n",
            "7 conv_dw_1_relu\n",
            "8 conv_pw_1\n",
            "9 conv_pw_1_bn\n",
            "10 conv_pw_1_relu\n",
            "11 conv_pad_2\n",
            "12 conv_dw_2\n",
            "13 conv_dw_2_bn\n",
            "14 conv_dw_2_relu\n",
            "15 conv_pw_2\n",
            "16 conv_pw_2_bn\n",
            "17 conv_pw_2_relu\n",
            "18 conv_dw_3\n",
            "19 conv_dw_3_bn\n",
            "20 conv_dw_3_relu\n",
            "21 conv_pw_3\n",
            "22 conv_pw_3_bn\n",
            "23 conv_pw_3_relu\n",
            "24 conv_pad_4\n",
            "25 conv_dw_4\n",
            "26 conv_dw_4_bn\n",
            "27 conv_dw_4_relu\n",
            "28 conv_pw_4\n",
            "29 conv_pw_4_bn\n",
            "30 conv_pw_4_relu\n",
            "31 conv_dw_5\n",
            "32 conv_dw_5_bn\n",
            "33 conv_dw_5_relu\n",
            "34 conv_pw_5\n",
            "35 conv_pw_5_bn\n",
            "36 conv_pw_5_relu\n",
            "37 conv_pad_6\n",
            "38 conv_dw_6\n",
            "39 conv_dw_6_bn\n",
            "40 conv_dw_6_relu\n",
            "41 conv_pw_6\n",
            "42 conv_pw_6_bn\n",
            "43 conv_pw_6_relu\n",
            "44 conv_dw_7\n",
            "45 conv_dw_7_bn\n",
            "46 conv_dw_7_relu\n",
            "47 conv_pw_7\n",
            "48 conv_pw_7_bn\n",
            "49 conv_pw_7_relu\n",
            "50 conv_dw_8\n",
            "51 conv_dw_8_bn\n",
            "52 conv_dw_8_relu\n",
            "53 conv_pw_8\n",
            "54 conv_pw_8_bn\n",
            "55 conv_pw_8_relu\n",
            "56 conv_dw_9\n",
            "57 conv_dw_9_bn\n",
            "58 conv_dw_9_relu\n",
            "59 conv_pw_9\n",
            "60 conv_pw_9_bn\n",
            "61 conv_pw_9_relu\n",
            "62 conv_dw_10\n",
            "63 conv_dw_10_bn\n",
            "64 conv_dw_10_relu\n",
            "65 conv_pw_10\n",
            "66 conv_pw_10_bn\n",
            "67 conv_pw_10_relu\n",
            "68 conv_dw_11\n",
            "69 conv_dw_11_bn\n",
            "70 conv_dw_11_relu\n",
            "71 conv_pw_11\n",
            "72 conv_pw_11_bn\n",
            "73 conv_pw_11_relu\n",
            "74 conv_pad_12\n",
            "75 conv_dw_12\n",
            "76 conv_dw_12_bn\n",
            "77 conv_dw_12_relu\n",
            "78 conv_pw_12\n",
            "79 conv_pw_12_bn\n",
            "80 conv_pw_12_relu\n",
            "81 conv_dw_13\n",
            "82 conv_dw_13_bn\n",
            "83 conv_dw_13_relu\n",
            "84 conv_pw_13\n",
            "85 conv_pw_13_bn\n",
            "86 conv_pw_13_relu\n",
            "87 global_average_pooling2d\n",
            "88 dense\n",
            "89 dropout\n",
            "90 dense_1\n",
            "91 dropout_1\n",
            "92 dense_2\n"
          ]
        }
      ]
    },
    {
      "cell_type": "code",
      "metadata": {
        "id": "BayNJNWYSbr0",
        "outputId": "6b8a0a45-f7bc-4234-cb65-3c409b86f478",
        "colab": {
          "base_uri": "https://localhost:8080/"
        }
      },
      "source": [
        "train_datagen=ImageDataGenerator(preprocessing_function=preprocess_input) #included in our dependencies\n",
        "\n",
        "train_generator=train_datagen.flow_from_directory('/content/flower_photos',\n",
        "                                                 target_size=(IMAGE_SIZE,IMAGE_SIZE),\n",
        "                                                 color_mode='rgb',\n",
        "                                                 batch_size=32,\n",
        "                                                 class_mode='categorical', shuffle=True)"
      ],
      "execution_count": 13,
      "outputs": [
        {
          "output_type": "stream",
          "name": "stdout",
          "text": [
            "Found 3670 images belonging to 5 classes.\n"
          ]
        }
      ]
    },
    {
      "cell_type": "markdown",
      "metadata": {
        "id": "PgWO8TPyR7kY"
      },
      "source": [
        "### Train del Modello"
      ]
    },
    {
      "cell_type": "code",
      "metadata": {
        "id": "dErWjt8Bn6IV",
        "outputId": "be55d1b1-086f-4464-ac54-6bf145a06bdc",
        "colab": {
          "base_uri": "https://localhost:8080/"
        }
      },
      "source": [
        "finetune_model.summary()\n",
        "finetune_model.compile(optimizer='Adam',loss='categorical_crossentropy',metrics=['accuracy'])\n",
        "step_size_train=train_generator.n//train_generator.batch_size\n",
        "history = finetune_model.fit_generator(generator=train_generator,steps_per_epoch=step_size_train,epochs=EPOCHS, shuffle=True)\n",
        "\n",
        "finetune_model.save('/content/my_model.h5')\n",
        "\n"
      ],
      "execution_count": 15,
      "outputs": [
        {
          "output_type": "stream",
          "name": "stdout",
          "text": [
            "Model: \"model\"\n",
            "_________________________________________________________________\n",
            " Layer (type)                Output Shape              Param #   \n",
            "=================================================================\n",
            " input_1 (InputLayer)        [(None, 224, 224, 3)]     0         \n",
            "                                                                 \n",
            " conv1_pad (ZeroPadding2D)   (None, 226, 226, 3)       0         \n",
            "                                                                 \n",
            " conv1 (Conv2D)              (None, 112, 112, 24)      648       \n",
            "                                                                 \n",
            " conv1_bn (BatchNormalizatio  (None, 112, 112, 24)     96        \n",
            " n)                                                              \n",
            "                                                                 \n",
            " conv1_relu (ReLU)           (None, 112, 112, 24)      0         \n",
            "                                                                 \n",
            " conv_dw_1 (DepthwiseConv2D)  (None, 112, 112, 24)     216       \n",
            "                                                                 \n",
            " conv_dw_1_bn (BatchNormaliz  (None, 112, 112, 24)     96        \n",
            " ation)                                                          \n",
            "                                                                 \n",
            " conv_dw_1_relu (ReLU)       (None, 112, 112, 24)      0         \n",
            "                                                                 \n",
            " conv_pw_1 (Conv2D)          (None, 112, 112, 48)      1152      \n",
            "                                                                 \n",
            " conv_pw_1_bn (BatchNormaliz  (None, 112, 112, 48)     192       \n",
            " ation)                                                          \n",
            "                                                                 \n",
            " conv_pw_1_relu (ReLU)       (None, 112, 112, 48)      0         \n",
            "                                                                 \n",
            " conv_pad_2 (ZeroPadding2D)  (None, 114, 114, 48)      0         \n",
            "                                                                 \n",
            " conv_dw_2 (DepthwiseConv2D)  (None, 56, 56, 48)       432       \n",
            "                                                                 \n",
            " conv_dw_2_bn (BatchNormaliz  (None, 56, 56, 48)       192       \n",
            " ation)                                                          \n",
            "                                                                 \n",
            " conv_dw_2_relu (ReLU)       (None, 56, 56, 48)        0         \n",
            "                                                                 \n",
            " conv_pw_2 (Conv2D)          (None, 56, 56, 96)        4608      \n",
            "                                                                 \n",
            " conv_pw_2_bn (BatchNormaliz  (None, 56, 56, 96)       384       \n",
            " ation)                                                          \n",
            "                                                                 \n",
            " conv_pw_2_relu (ReLU)       (None, 56, 56, 96)        0         \n",
            "                                                                 \n",
            " conv_dw_3 (DepthwiseConv2D)  (None, 56, 56, 96)       864       \n",
            "                                                                 \n",
            " conv_dw_3_bn (BatchNormaliz  (None, 56, 56, 96)       384       \n",
            " ation)                                                          \n",
            "                                                                 \n",
            " conv_dw_3_relu (ReLU)       (None, 56, 56, 96)        0         \n",
            "                                                                 \n",
            " conv_pw_3 (Conv2D)          (None, 56, 56, 96)        9216      \n",
            "                                                                 \n",
            " conv_pw_3_bn (BatchNormaliz  (None, 56, 56, 96)       384       \n",
            " ation)                                                          \n",
            "                                                                 \n",
            " conv_pw_3_relu (ReLU)       (None, 56, 56, 96)        0         \n",
            "                                                                 \n",
            " conv_pad_4 (ZeroPadding2D)  (None, 58, 58, 96)        0         \n",
            "                                                                 \n",
            " conv_dw_4 (DepthwiseConv2D)  (None, 28, 28, 96)       864       \n",
            "                                                                 \n",
            " conv_dw_4_bn (BatchNormaliz  (None, 28, 28, 96)       384       \n",
            " ation)                                                          \n",
            "                                                                 \n",
            " conv_dw_4_relu (ReLU)       (None, 28, 28, 96)        0         \n",
            "                                                                 \n",
            " conv_pw_4 (Conv2D)          (None, 28, 28, 192)       18432     \n",
            "                                                                 \n",
            " conv_pw_4_bn (BatchNormaliz  (None, 28, 28, 192)      768       \n",
            " ation)                                                          \n",
            "                                                                 \n",
            " conv_pw_4_relu (ReLU)       (None, 28, 28, 192)       0         \n",
            "                                                                 \n",
            " conv_dw_5 (DepthwiseConv2D)  (None, 28, 28, 192)      1728      \n",
            "                                                                 \n",
            " conv_dw_5_bn (BatchNormaliz  (None, 28, 28, 192)      768       \n",
            " ation)                                                          \n",
            "                                                                 \n",
            " conv_dw_5_relu (ReLU)       (None, 28, 28, 192)       0         \n",
            "                                                                 \n",
            " conv_pw_5 (Conv2D)          (None, 28, 28, 192)       36864     \n",
            "                                                                 \n",
            " conv_pw_5_bn (BatchNormaliz  (None, 28, 28, 192)      768       \n",
            " ation)                                                          \n",
            "                                                                 \n",
            " conv_pw_5_relu (ReLU)       (None, 28, 28, 192)       0         \n",
            "                                                                 \n",
            " conv_pad_6 (ZeroPadding2D)  (None, 30, 30, 192)       0         \n",
            "                                                                 \n",
            " conv_dw_6 (DepthwiseConv2D)  (None, 14, 14, 192)      1728      \n",
            "                                                                 \n",
            " conv_dw_6_bn (BatchNormaliz  (None, 14, 14, 192)      768       \n",
            " ation)                                                          \n",
            "                                                                 \n",
            " conv_dw_6_relu (ReLU)       (None, 14, 14, 192)       0         \n",
            "                                                                 \n",
            " conv_pw_6 (Conv2D)          (None, 14, 14, 384)       73728     \n",
            "                                                                 \n",
            " conv_pw_6_bn (BatchNormaliz  (None, 14, 14, 384)      1536      \n",
            " ation)                                                          \n",
            "                                                                 \n",
            " conv_pw_6_relu (ReLU)       (None, 14, 14, 384)       0         \n",
            "                                                                 \n",
            " conv_dw_7 (DepthwiseConv2D)  (None, 14, 14, 384)      3456      \n",
            "                                                                 \n",
            " conv_dw_7_bn (BatchNormaliz  (None, 14, 14, 384)      1536      \n",
            " ation)                                                          \n",
            "                                                                 \n",
            " conv_dw_7_relu (ReLU)       (None, 14, 14, 384)       0         \n",
            "                                                                 \n",
            " conv_pw_7 (Conv2D)          (None, 14, 14, 384)       147456    \n",
            "                                                                 \n",
            " conv_pw_7_bn (BatchNormaliz  (None, 14, 14, 384)      1536      \n",
            " ation)                                                          \n",
            "                                                                 \n",
            " conv_pw_7_relu (ReLU)       (None, 14, 14, 384)       0         \n",
            "                                                                 \n",
            " conv_dw_8 (DepthwiseConv2D)  (None, 14, 14, 384)      3456      \n",
            "                                                                 \n",
            " conv_dw_8_bn (BatchNormaliz  (None, 14, 14, 384)      1536      \n",
            " ation)                                                          \n",
            "                                                                 \n",
            " conv_dw_8_relu (ReLU)       (None, 14, 14, 384)       0         \n",
            "                                                                 \n",
            " conv_pw_8 (Conv2D)          (None, 14, 14, 384)       147456    \n",
            "                                                                 \n",
            " conv_pw_8_bn (BatchNormaliz  (None, 14, 14, 384)      1536      \n",
            " ation)                                                          \n",
            "                                                                 \n",
            " conv_pw_8_relu (ReLU)       (None, 14, 14, 384)       0         \n",
            "                                                                 \n",
            " conv_dw_9 (DepthwiseConv2D)  (None, 14, 14, 384)      3456      \n",
            "                                                                 \n",
            " conv_dw_9_bn (BatchNormaliz  (None, 14, 14, 384)      1536      \n",
            " ation)                                                          \n",
            "                                                                 \n",
            " conv_dw_9_relu (ReLU)       (None, 14, 14, 384)       0         \n",
            "                                                                 \n",
            " conv_pw_9 (Conv2D)          (None, 14, 14, 384)       147456    \n",
            "                                                                 \n",
            " conv_pw_9_bn (BatchNormaliz  (None, 14, 14, 384)      1536      \n",
            " ation)                                                          \n",
            "                                                                 \n",
            " conv_pw_9_relu (ReLU)       (None, 14, 14, 384)       0         \n",
            "                                                                 \n",
            " conv_dw_10 (DepthwiseConv2D  (None, 14, 14, 384)      3456      \n",
            " )                                                               \n",
            "                                                                 \n",
            " conv_dw_10_bn (BatchNormali  (None, 14, 14, 384)      1536      \n",
            " zation)                                                         \n",
            "                                                                 \n",
            " conv_dw_10_relu (ReLU)      (None, 14, 14, 384)       0         \n",
            "                                                                 \n",
            " conv_pw_10 (Conv2D)         (None, 14, 14, 384)       147456    \n",
            "                                                                 \n",
            " conv_pw_10_bn (BatchNormali  (None, 14, 14, 384)      1536      \n",
            " zation)                                                         \n",
            "                                                                 \n",
            " conv_pw_10_relu (ReLU)      (None, 14, 14, 384)       0         \n",
            "                                                                 \n",
            " conv_dw_11 (DepthwiseConv2D  (None, 14, 14, 384)      3456      \n",
            " )                                                               \n",
            "                                                                 \n",
            " conv_dw_11_bn (BatchNormali  (None, 14, 14, 384)      1536      \n",
            " zation)                                                         \n",
            "                                                                 \n",
            " conv_dw_11_relu (ReLU)      (None, 14, 14, 384)       0         \n",
            "                                                                 \n",
            " conv_pw_11 (Conv2D)         (None, 14, 14, 384)       147456    \n",
            "                                                                 \n",
            " conv_pw_11_bn (BatchNormali  (None, 14, 14, 384)      1536      \n",
            " zation)                                                         \n",
            "                                                                 \n",
            " conv_pw_11_relu (ReLU)      (None, 14, 14, 384)       0         \n",
            "                                                                 \n",
            " conv_pad_12 (ZeroPadding2D)  (None, 16, 16, 384)      0         \n",
            "                                                                 \n",
            " conv_dw_12 (DepthwiseConv2D  (None, 7, 7, 384)        3456      \n",
            " )                                                               \n",
            "                                                                 \n",
            " conv_dw_12_bn (BatchNormali  (None, 7, 7, 384)        1536      \n",
            " zation)                                                         \n",
            "                                                                 \n",
            " conv_dw_12_relu (ReLU)      (None, 7, 7, 384)         0         \n",
            "                                                                 \n",
            " conv_pw_12 (Conv2D)         (None, 7, 7, 768)         294912    \n",
            "                                                                 \n",
            " conv_pw_12_bn (BatchNormali  (None, 7, 7, 768)        3072      \n",
            " zation)                                                         \n",
            "                                                                 \n",
            " conv_pw_12_relu (ReLU)      (None, 7, 7, 768)         0         \n",
            "                                                                 \n",
            " conv_dw_13 (DepthwiseConv2D  (None, 7, 7, 768)        6912      \n",
            " )                                                               \n",
            "                                                                 \n",
            " conv_dw_13_bn (BatchNormali  (None, 7, 7, 768)        3072      \n",
            " zation)                                                         \n",
            "                                                                 \n",
            " conv_dw_13_relu (ReLU)      (None, 7, 7, 768)         0         \n",
            "                                                                 \n",
            " conv_pw_13 (Conv2D)         (None, 7, 7, 768)         589824    \n",
            "                                                                 \n",
            " conv_pw_13_bn (BatchNormali  (None, 7, 7, 768)        3072      \n",
            " zation)                                                         \n",
            "                                                                 \n",
            " conv_pw_13_relu (ReLU)      (None, 7, 7, 768)         0         \n",
            "                                                                 \n",
            " global_average_pooling2d (G  (None, 768)              0         \n",
            " lobalAveragePooling2D)                                          \n",
            "                                                                 \n",
            " dense (Dense)               (None, 100)               76900     \n",
            "                                                                 \n",
            " dropout (Dropout)           (None, 100)               0         \n",
            "                                                                 \n",
            " dense_1 (Dense)             (None, 50)                5050      \n",
            "                                                                 \n",
            " dropout_1 (Dropout)         (None, 50)                0         \n",
            "                                                                 \n",
            " dense_2 (Dense)             (None, 5)                 255       \n",
            "                                                                 \n",
            "=================================================================\n",
            "Total params: 1,915,181\n",
            "Trainable params: 82,205\n",
            "Non-trainable params: 1,832,976\n",
            "_________________________________________________________________\n"
          ]
        },
        {
          "output_type": "stream",
          "name": "stderr",
          "text": [
            "/usr/local/lib/python3.7/dist-packages/ipykernel_launcher.py:4: UserWarning: `Model.fit_generator` is deprecated and will be removed in a future version. Please use `Model.fit`, which supports generators.\n",
            "  after removing the cwd from sys.path.\n"
          ]
        },
        {
          "output_type": "stream",
          "name": "stdout",
          "text": [
            "Epoch 1/10\n",
            "114/114 [==============================] - 28s 114ms/step - loss: 1.2763 - accuracy: 0.4783\n",
            "Epoch 2/10\n",
            "114/114 [==============================] - 13s 111ms/step - loss: 0.7897 - accuracy: 0.6971\n",
            "Epoch 3/10\n",
            "114/114 [==============================] - 13s 111ms/step - loss: 0.6284 - accuracy: 0.7749\n",
            "Epoch 4/10\n",
            "114/114 [==============================] - 13s 110ms/step - loss: 0.5250 - accuracy: 0.8134\n",
            "Epoch 5/10\n",
            "114/114 [==============================] - 13s 111ms/step - loss: 0.4765 - accuracy: 0.8318\n",
            "Epoch 6/10\n",
            "114/114 [==============================] - 13s 111ms/step - loss: 0.4293 - accuracy: 0.8571\n",
            "Epoch 7/10\n",
            "114/114 [==============================] - 13s 111ms/step - loss: 0.4012 - accuracy: 0.8612\n",
            "Epoch 8/10\n",
            "114/114 [==============================] - 13s 110ms/step - loss: 0.3887 - accuracy: 0.8656\n",
            "Epoch 9/10\n",
            "114/114 [==============================] - 13s 111ms/step - loss: 0.3647 - accuracy: 0.8785\n",
            "Epoch 10/10\n",
            "114/114 [==============================] - 13s 110ms/step - loss: 0.3133 - accuracy: 0.8911\n"
          ]
        }
      ]
    },
    {
      "cell_type": "code",
      "metadata": {
        "id": "0YBIRTO4u9iM",
        "outputId": "8e8301c3-11f5-4e19-9bb7-c16e702c04e7",
        "colab": {
          "base_uri": "https://localhost:8080/"
        }
      },
      "source": [
        "# faccio un test per verificare che il modello sia funzionante\n",
        "preprocessed_image = prepare_image('/content/flower_photos/roses/14494590921_3bb1dc7b88_n.jpg')\n",
        "predictions_flower = finetune_model.predict(preprocessed_image) \n",
        "print(predictions_flower[0][0]*100)    \n",
        "print(predictions_flower[0][1]*100) \n",
        "print(predictions_flower[0][2]*100) \n",
        "print(predictions_flower[0][3]*100) \n",
        "print(predictions_flower[0][4]*100) "
      ],
      "execution_count": 16,
      "outputs": [
        {
          "output_type": "stream",
          "name": "stdout",
          "text": [
            "8.574289722673711e-05\n",
            "1.1819594192274963e-06\n",
            "99.01312589645386\n",
            "8.468676355732896e-05\n",
            "0.9867113083600998\n"
          ]
        }
      ]
    },
    {
      "cell_type": "markdown",
      "metadata": {
        "id": "8-4DpV3i_kff"
      },
      "source": [
        "##Conversione del Modello\n",
        "h5 --> tflite --> kmodel"
      ]
    },
    {
      "cell_type": "markdown",
      "metadata": {
        "id": "8qALZ3-QSWs4"
      },
      "source": [
        "###h5 --> tflite"
      ]
    },
    {
      "cell_type": "code",
      "metadata": {
        "id": "Xh5cMw23YdaE",
        "outputId": "c16a8697-8f38-40ae-d4a7-4a01febd5bf9",
        "colab": {
          "base_uri": "https://localhost:8080/"
        }
      },
      "source": [
        "#converto da keras a tflite\n",
        "!tflite_convert  --output_file=/content/model.tflite --keras_model_file=/content/my_model.h5"
      ],
      "execution_count": 17,
      "outputs": [
        {
          "output_type": "stream",
          "name": "stdout",
          "text": [
            "2022-09-08 09:56:34.226802: W tensorflow/core/common_runtime/gpu/gpu_bfc_allocator.cc:39] Overriding allow_growth setting because the TF_FORCE_GPU_ALLOW_GROWTH environment variable is set. Original config value was 0.\n",
            "2022-09-08 09:56:37.595639: W tensorflow/python/util/util.cc:368] Sets are not currently considered sequences, but this may change in the future, so consider avoiding using them.\n",
            "INFO:tensorflow:Assets written to: /tmp/tmpbrs8dsw7/assets\n",
            "I0908 09:56:41.545412 139825850173312 builder_impl.py:780] Assets written to: /tmp/tmpbrs8dsw7/assets\n",
            "I0908 09:56:46.328571 139825850173312 lite.py:998] Using new converter: If you encounter a problem please file a bug. You can opt-out by setting experimental_new_converter=False\n",
            "2022-09-08 09:56:46.390618: W tensorflow/compiler/mlir/lite/python/tf_tfl_flatbuffer_helpers.cc:357] Ignored output_format.\n",
            "2022-09-08 09:56:46.390671: W tensorflow/compiler/mlir/lite/python/tf_tfl_flatbuffer_helpers.cc:360] Ignored drop_control_dependency.\n"
          ]
        }
      ]
    },
    {
      "cell_type": "markdown",
      "metadata": {
        "id": "sHpfWFHgSccx"
      },
      "source": [
        "### tflite --> kmodel\n",
        "\n",
        "Preparo alcuni dati di esempio per il test ncc"
      ]
    },
    {
      "cell_type": "code",
      "metadata": {
        "id": "qOO0M8wkORGi"
      },
      "source": [
        "%%bash\n",
        "cd /content\n",
        "\n",
        "mkdir /content/test_photos/\n",
        "mkdir /content/test_photos/daisy\n",
        "mkdir /content/test_photos/dandelion\n",
        "mkdir /content/test_photos/roses\n",
        "mkdir /content/test_photos/sunflowers\n",
        "mkdir /content/test_photos/tulips\n"
      ],
      "execution_count": 18,
      "outputs": []
    },
    {
      "cell_type": "code",
      "metadata": {
        "id": "mlXzn2bBO2vF"
      },
      "source": [
        "import os\n",
        "import shutil\n",
        "\n",
        "\n",
        "def recursive_copy(src, dest):\n",
        "    \"\"\"\n",
        "    Copy each file from src dir to dest dir, including sub-directories.\n",
        "    \"\"\"\n",
        "    \n",
        "    #copio solo 10 file\n",
        "    count=0\n",
        "    for item in os.listdir(src):\n",
        "        file_path = os.path.join(src, item)\n",
        "\n",
        "        if os.path.isfile(file_path):\n",
        "            shutil.copy(file_path, dest)\n",
        "\n",
        "        \n",
        "        elif os.path.isdir(file_path):\n",
        "            new_dest = os.path.join(dest, item)\n",
        "            os.mkdir(new_dest)\n",
        "            recursive_copy(file_path, new_dest)\n",
        "        if count == 10:\n",
        "          break\n",
        "        count+=1\n",
        "\n",
        "recursive_copy(\"/content/flower_photos/daisy\", \"/content/test_photos/daisy\")\n",
        "recursive_copy(\"/content/flower_photos/dandelion\", \"/content/test_photos/dandelion\")\n",
        "recursive_copy(\"/content/flower_photos/roses\", \"/content/test_photos/roses\")\n",
        "recursive_copy(\"/content/flower_photos/sunflowers\", \"/content/test_photos/sunflowers\")\n",
        "recursive_copy(\"/content/flower_photos/tulips\", \"/content/test_photos/tulips\")\n",
        "\n"
      ],
      "execution_count": 19,
      "outputs": []
    },
    {
      "cell_type": "code",
      "metadata": {
        "id": "bby8_XS8KRBB",
        "colab": {
          "base_uri": "https://localhost:8080/"
        },
        "outputId": "40590689-ecb0-4efc-c1bd-70f7c41802db"
      },
      "source": [
        "#conversione tflite in formato kmodel\n",
        "%cd /content/Maix_Toolbox\n",
        "!./ncc/ncc -i tflite -o k210model --dataset /content/test_photos /content/model.tflite /content/model.kmodel"
      ],
      "execution_count": 20,
      "outputs": [
        {
          "output_type": "stream",
          "name": "stdout",
          "text": [
            "/content/Maix_Toolbox\n",
            "0: InputLayer -> 1x3x224x224\n",
            "1: K210Conv2d 1x3x224x224 -> 1x24x112x112\n",
            "2: K210Conv2d 1x24x112x112 -> 1x24x112x112\n",
            "3: K210Conv2d 1x24x112x112 -> 1x48x112x112\n",
            "4: K210Conv2d 1x48x112x112 -> 1x48x112x112\n",
            "5: K210Conv2d 1x48x112x112 -> 1x96x56x56\n",
            "6: K210Conv2d 1x96x56x56 -> 1x96x56x56\n",
            "7: K210Conv2d 1x96x56x56 -> 1x96x56x56\n",
            "8: K210Conv2d 1x96x56x56 -> 1x96x56x56\n",
            "9: K210Conv2d 1x96x56x56 -> 1x192x28x28\n",
            "10: K210Conv2d 1x192x28x28 -> 1x192x28x28\n",
            "11: K210Conv2d 1x192x28x28 -> 1x192x28x28\n",
            "12: K210Conv2d 1x192x28x28 -> 1x192x28x28\n",
            "13: K210Conv2d 1x192x28x28 -> 1x384x14x14\n",
            "14: K210Conv2d 1x384x14x14 -> 1x384x14x14\n",
            "15: K210Conv2d 1x384x14x14 -> 1x384x14x14\n",
            "16: K210Conv2d 1x384x14x14 -> 1x384x14x14\n",
            "17: K210Conv2d 1x384x14x14 -> 1x384x14x14\n",
            "18: K210Conv2d 1x384x14x14 -> 1x384x14x14\n",
            "19: K210Conv2d 1x384x14x14 -> 1x384x14x14\n",
            "20: K210Conv2d 1x384x14x14 -> 1x384x14x14\n",
            "21: K210Conv2d 1x384x14x14 -> 1x384x14x14\n",
            "22: K210Conv2d 1x384x14x14 -> 1x384x14x14\n",
            "23: K210Conv2d 1x384x14x14 -> 1x384x14x14\n",
            "24: K210Conv2d 1x384x14x14 -> 1x384x14x14\n",
            "25: K210Conv2d 1x384x14x14 -> 1x768x7x7\n",
            "26: K210Conv2d 1x768x7x7 -> 1x768x7x7\n",
            "27: K210Conv2d 1x768x7x7 -> 1x768x7x7\n",
            "28: Dequantize 1x768x7x7 -> 1x768x7x7\n",
            "29: GlobalAveragePool 1x768x7x7 -> 1x768x1x1\n",
            "30: Reshape 1x768x1x1 -> 1x768\n",
            "31: Quantize 1x768 -> 1x768\n",
            "32: K210AddPadding 1x768 -> 1x768x4x4\n",
            "33: K210Conv2d 1x768x4x4 -> 1x100x4x4\n",
            "34: K210Conv2d 1x100x4x4 -> 1x50x4x4\n",
            "35: K210Conv2d 1x50x4x4 -> 1x5x4x4\n",
            "36: K210RemovePadding 1x5x4x4 -> 1x5\n",
            "37: Dequantize 1x5 -> 1x5\n",
            "38: Softmax 1x5 -> 1x5\n",
            "39: OutputLayer 1x5\n",
            "KPU memory usage: 2097152 B\n",
            "Main memory usage: 188160 B\n"
          ]
        }
      ]
    }
  ]
}